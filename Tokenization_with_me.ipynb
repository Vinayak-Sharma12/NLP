{
  "nbformat": 4,
  "nbformat_minor": 0,
  "metadata": {
    "colab": {
      "provenance": [],
      "authorship_tag": "ABX9TyOAJL6qPOin65H/ItFWbGh5",
      "include_colab_link": true
    },
    "kernelspec": {
      "name": "python3",
      "display_name": "Python 3"
    },
    "language_info": {
      "name": "python"
    }
  },
  "cells": [
    {
      "cell_type": "markdown",
      "metadata": {
        "id": "view-in-github",
        "colab_type": "text"
      },
      "source": [
        "<a href=\"https://colab.research.google.com/github/Vinayak-Sharma12/NLP/blob/main/Tokenization_with_me.ipynb\" target=\"_parent\"><img src=\"https://colab.research.google.com/assets/colab-badge.svg\" alt=\"Open In Colab\"/></a>"
      ]
    },
    {
      "cell_type": "markdown",
      "source": [
        "# **Tokenization**\n",
        "Process of converting the paragraphs or words into tokens\n"
      ],
      "metadata": {
        "id": "VsFOUl-qqYgN"
      }
    },
    {
      "cell_type": "code",
      "source": [
        "import nltk"
      ],
      "metadata": {
        "id": "V5Uc5LzVqr1m"
      },
      "execution_count": 1,
      "outputs": []
    },
    {
      "cell_type": "code",
      "source": [
        "nltk.download('punkt')"
      ],
      "metadata": {
        "colab": {
          "base_uri": "https://localhost:8080/"
        },
        "id": "5VukwoCir13Y",
        "outputId": "bce72e6e-4da1-4ffe-aea7-31f47fbd4e63"
      },
      "execution_count": 5,
      "outputs": [
        {
          "output_type": "stream",
          "name": "stderr",
          "text": [
            "[nltk_data] Downloading package punkt to /root/nltk_data...\n",
            "[nltk_data]   Unzipping tokenizers/punkt.zip.\n"
          ]
        },
        {
          "output_type": "execute_result",
          "data": {
            "text/plain": [
              "True"
            ]
          },
          "metadata": {},
          "execution_count": 5
        }
      ]
    },
    {
      "cell_type": "code",
      "source": [
        "corpus=\"\"\"Hi my name is Vinayak Sharma and my gmail is. You! are # in @Vinayak's notebook.\"\"\"\n",
        "print(corpus)"
      ],
      "metadata": {
        "colab": {
          "base_uri": "https://localhost:8080/"
        },
        "id": "MLQpZgY0q91O",
        "outputId": "27a43fbc-fb20-4fbd-c016-acc1d3c7efb2"
      },
      "execution_count": 35,
      "outputs": [
        {
          "output_type": "stream",
          "name": "stdout",
          "text": [
            "Hi my name is Vinayak Sharma and my gmail is. You! are # in @Vinayak's notebook.\n"
          ]
        }
      ]
    },
    {
      "cell_type": "markdown",
      "source": [
        "## **Sent_tokenize**\n",
        "Convert Paragraphs into List of sentences and on the basis of . or !"
      ],
      "metadata": {
        "id": "GPlnrX8TqzPo"
      }
    },
    {
      "cell_type": "code",
      "source": [
        "from nltk.tokenize import sent_tokenize\n",
        "sent_tokenize(corpus)"
      ],
      "metadata": {
        "colab": {
          "base_uri": "https://localhost:8080/"
        },
        "id": "UQCQHDJSrdUG",
        "outputId": "2b01ee5c-68f8-456f-8259-141408bc3fd7"
      },
      "execution_count": 36,
      "outputs": [
        {
          "output_type": "execute_result",
          "data": {
            "text/plain": [
              "['Hi my name is Vinayak Sharma and my gmail is.',\n",
              " 'You!',\n",
              " \"are # in @Vinayak's notebook.\"]"
            ]
          },
          "metadata": {},
          "execution_count": 36
        }
      ]
    },
    {
      "cell_type": "markdown",
      "source": [
        "## **Word_tokenize**\n",
        "Convert Corpus or Sentence into words and treat everything as separate except 's like vinayak's ->  \" 's \""
      ],
      "metadata": {
        "id": "ASqByQD1uPUU"
      }
    },
    {
      "cell_type": "code",
      "source": [
        "from nltk.tokenize import word_tokenize\n",
        "word_tokenize(corpus)"
      ],
      "metadata": {
        "colab": {
          "base_uri": "https://localhost:8080/"
        },
        "id": "mN9CLY3HuWBS",
        "outputId": "6ca32367-d6c5-45c3-93ba-1fb557fc6023"
      },
      "execution_count": 38,
      "outputs": [
        {
          "output_type": "execute_result",
          "data": {
            "text/plain": [
              "['Hi',\n",
              " 'my',\n",
              " 'name',\n",
              " 'is',\n",
              " 'Vinayak',\n",
              " 'Sharma',\n",
              " 'and',\n",
              " 'my',\n",
              " 'gmail',\n",
              " 'is',\n",
              " '.',\n",
              " 'You',\n",
              " '!',\n",
              " 'are',\n",
              " '#',\n",
              " 'in',\n",
              " '@',\n",
              " 'Vinayak',\n",
              " \"'s\",\n",
              " 'notebook',\n",
              " '.']"
            ]
          },
          "metadata": {},
          "execution_count": 38
        }
      ]
    },
    {
      "cell_type": "markdown",
      "source": [
        "# **wordpunct_tokenize**\n",
        "Treat everything as seperate and also 's as '  and \"s\""
      ],
      "metadata": {
        "id": "Wmz-RAvOvxJ7"
      }
    },
    {
      "cell_type": "code",
      "source": [
        "from nltk.tokenize import wordpunct_tokenize\n",
        "wordpunct_tokenize(corpus)"
      ],
      "metadata": {
        "colab": {
          "base_uri": "https://localhost:8080/"
        },
        "id": "O37AJPefwD60",
        "outputId": "2ad2c145-d12e-443e-fc07-a4b91353b89d"
      },
      "execution_count": 39,
      "outputs": [
        {
          "output_type": "execute_result",
          "data": {
            "text/plain": [
              "['Hi',\n",
              " 'my',\n",
              " 'name',\n",
              " 'is',\n",
              " 'Vinayak',\n",
              " 'Sharma',\n",
              " 'and',\n",
              " 'my',\n",
              " 'gmail',\n",
              " 'is',\n",
              " '.',\n",
              " 'You',\n",
              " '!',\n",
              " 'are',\n",
              " '#',\n",
              " 'in',\n",
              " '@',\n",
              " 'Vinayak',\n",
              " \"'\",\n",
              " 's',\n",
              " 'notebook',\n",
              " '.']"
            ]
          },
          "metadata": {},
          "execution_count": 39
        }
      ]
    },
    {
      "cell_type": "markdown",
      "source": [
        "## **TreebankWordTokenizer**\n",
        "Word Tokenizer which treats  only last full stops as seperate not all fullstop"
      ],
      "metadata": {
        "id": "HczsMrbhwsMo"
      }
    },
    {
      "cell_type": "code",
      "source": [
        "from nltk.tokenize import TreebankWordTokenizer\n",
        "tokenizer=TreebankWordTokenizer()\n",
        "tokenizer.tokenize(corpus)"
      ],
      "metadata": {
        "colab": {
          "base_uri": "https://localhost:8080/"
        },
        "id": "m4Fml_rUw1eH",
        "outputId": "ee78cc26-ba9c-474a-b117-ac27a2960ed3"
      },
      "execution_count": 49,
      "outputs": [
        {
          "output_type": "execute_result",
          "data": {
            "text/plain": [
              "['Hi',\n",
              " 'my',\n",
              " 'name',\n",
              " 'is',\n",
              " 'Vinayak',\n",
              " 'Sharma',\n",
              " 'and',\n",
              " 'my',\n",
              " 'gmail',\n",
              " 'is.',\n",
              " 'You',\n",
              " '!',\n",
              " 'are',\n",
              " '#',\n",
              " 'in',\n",
              " '@',\n",
              " 'Vinayak',\n",
              " \"'s\",\n",
              " 'notebook',\n",
              " '.']"
            ]
          },
          "metadata": {},
          "execution_count": 49
        }
      ]
    }
  ]
}