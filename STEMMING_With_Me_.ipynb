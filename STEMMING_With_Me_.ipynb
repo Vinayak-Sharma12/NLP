{
  "nbformat": 4,
  "nbformat_minor": 0,
  "metadata": {
    "colab": {
      "provenance": [],
      "authorship_tag": "ABX9TyMlQ7+wtj53S1gTo0ozSTbn",
      "include_colab_link": true
    },
    "kernelspec": {
      "name": "python3",
      "display_name": "Python 3"
    },
    "language_info": {
      "name": "python"
    }
  },
  "cells": [
    {
      "cell_type": "markdown",
      "metadata": {
        "id": "view-in-github",
        "colab_type": "text"
      },
      "source": [
        "<a href=\"https://colab.research.google.com/github/Vinayak-Sharma12/NLP/blob/main/STEMMING_With_Me_.ipynb\" target=\"_parent\"><img src=\"https://colab.research.google.com/assets/colab-badge.svg\" alt=\"Open In Colab\"/></a>"
      ]
    },
    {
      "cell_type": "markdown",
      "source": [
        "# **STEMMING**\n",
        "It is a process of reducing a word to its stem\n",
        "\n",
        "3 types of Stemming:\n",
        "\n",
        "*   PorterStemmer\n",
        "\n",
        "*   RegexpStemmer\n",
        "*   PorterStemmer\n",
        "\n"
      ],
      "metadata": {
        "id": "OCeJUHhcA-4m"
      }
    },
    {
      "cell_type": "code",
      "source": [
        "import nltk"
      ],
      "metadata": {
        "id": "t0ZpyW_GB_a4"
      },
      "execution_count": 62,
      "outputs": []
    },
    {
      "cell_type": "code",
      "source": [],
      "metadata": {
        "id": "Puw6rGNlBmnZ"
      },
      "execution_count": 63,
      "outputs": []
    },
    {
      "cell_type": "markdown",
      "source": [
        "## **PorterStemmer**"
      ],
      "metadata": {
        "id": "HGannFdcBbPa"
      }
    },
    {
      "cell_type": "code",
      "source": [
        "from nltk.stem import PorterStemmer\n",
        "stemming=PorterStemmer()"
      ],
      "metadata": {
        "id": "oSTIe_JjB7qr"
      },
      "execution_count": 64,
      "outputs": []
    },
    {
      "cell_type": "code",
      "source": [
        "words=[\"eating\",\"eats\",\"eaten\",\"Writing\",\"Writes\",\"Finally\",\"History\",\"Congratulations\"]\n",
        "for words in words:\n",
        " print(words + \"-->\"+ stemming.stem(words))\n",
        "\n"
      ],
      "metadata": {
        "colab": {
          "base_uri": "https://localhost:8080/"
        },
        "id": "-aZN3NpeCYSG",
        "outputId": "6f8eedc3-88c8-4680-8e53-dd1f6caef685"
      },
      "execution_count": 78,
      "outputs": [
        {
          "output_type": "stream",
          "name": "stdout",
          "text": [
            "eating-->eat\n",
            "eats-->eat\n",
            "eaten-->eaten\n",
            "Writing-->write\n",
            "Writes-->write\n",
            "Finally-->final\n",
            "History-->histori\n",
            "Congratulations-->congratul\n"
          ]
        }
      ]
    },
    {
      "cell_type": "markdown",
      "source": [
        "## **RegexpStemmer**\n",
        "\n",
        "> It is basically customized stemming\n",
        "\n"
      ],
      "metadata": {
        "id": "lsa7ZKd-DjB1"
      }
    },
    {
      "cell_type": "code",
      "source": [
        "from nltk.stem import RegexpStemmer\n",
        "reg_stemmer=RegexpStemmer('ing$|s$|e$|able$',min=4)"
      ],
      "metadata": {
        "id": "j7AJRTblD21a"
      },
      "execution_count": 66,
      "outputs": []
    },
    {
      "cell_type": "code",
      "source": [
        "reg_stemmer.stem('eating')"
      ],
      "metadata": {
        "colab": {
          "base_uri": "https://localhost:8080/",
          "height": 36
        },
        "id": "qf7CBn4sELhw",
        "outputId": "2f7e8db5-4b00-4e69-ec93-a7e9f475c380"
      },
      "execution_count": 67,
      "outputs": [
        {
          "output_type": "execute_result",
          "data": {
            "text/plain": [
              "'eat'"
            ],
            "application/vnd.google.colaboratory.intrinsic+json": {
              "type": "string"
            }
          },
          "metadata": {},
          "execution_count": 67
        }
      ]
    },
    {
      "cell_type": "code",
      "source": [
        "reg_stemmer.stem('eats')"
      ],
      "metadata": {
        "colab": {
          "base_uri": "https://localhost:8080/",
          "height": 36
        },
        "id": "dicLG3LDFIVe",
        "outputId": "39bf5a05-71ea-4112-8e37-a220dc644892"
      },
      "execution_count": 68,
      "outputs": [
        {
          "output_type": "execute_result",
          "data": {
            "text/plain": [
              "'eat'"
            ],
            "application/vnd.google.colaboratory.intrinsic+json": {
              "type": "string"
            }
          },
          "metadata": {},
          "execution_count": 68
        }
      ]
    },
    {
      "cell_type": "code",
      "source": [
        "#No change\n",
        "reg_stemmer.stem('finally')"
      ],
      "metadata": {
        "colab": {
          "base_uri": "https://localhost:8080/",
          "height": 36
        },
        "id": "f1RscRGxFNLp",
        "outputId": "cc2034a7-013f-46a1-cd51-0b4b7f752573"
      },
      "execution_count": 69,
      "outputs": [
        {
          "output_type": "execute_result",
          "data": {
            "text/plain": [
              "'finally'"
            ],
            "application/vnd.google.colaboratory.intrinsic+json": {
              "type": "string"
            }
          },
          "metadata": {},
          "execution_count": 69
        }
      ]
    },
    {
      "cell_type": "code",
      "source": [
        "reg_stemmer.stem('eatable')"
      ],
      "metadata": {
        "colab": {
          "base_uri": "https://localhost:8080/",
          "height": 36
        },
        "id": "jC9x-f4UFXgk",
        "outputId": "28f6025d-c4e6-461a-978b-8a242f17797a"
      },
      "execution_count": 70,
      "outputs": [
        {
          "output_type": "execute_result",
          "data": {
            "text/plain": [
              "'eat'"
            ],
            "application/vnd.google.colaboratory.intrinsic+json": {
              "type": "string"
            }
          },
          "metadata": {},
          "execution_count": 70
        }
      ]
    },
    {
      "cell_type": "markdown",
      "source": [
        "## **SnowballStemmer**"
      ],
      "metadata": {
        "id": "lgH4d6ouF1Av"
      }
    },
    {
      "cell_type": "code",
      "source": [
        "from nltk.stem import SnowballStemmer\n",
        "snowball=SnowballStemmer('english')"
      ],
      "metadata": {
        "id": "e4-UD9sEGFl8"
      },
      "execution_count": 71,
      "outputs": []
    },
    {
      "cell_type": "code",
      "source": [
        "words = ['running', 'swimming', 'eating', 'played']\n",
        "for words in words:\n",
        "   print(words +'--->' + snowball.stem(words))"
      ],
      "metadata": {
        "colab": {
          "base_uri": "https://localhost:8080/"
        },
        "id": "SIUJlHPBG1Bg",
        "outputId": "24d467a6-b4d5-4146-d624-f39636720524"
      },
      "execution_count": 75,
      "outputs": [
        {
          "output_type": "stream",
          "name": "stdout",
          "text": [
            "running--->run\n",
            "swimming--->swim\n",
            "eating--->eat\n",
            "played--->play\n"
          ]
        }
      ]
    }
  ]
}